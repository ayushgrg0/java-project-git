{
 "cells": [
  {
   "cell_type": "markdown",
   "metadata": {},
   "source": [
    "1. Create 5 different python objects as following:\n"
   ]
  },
  {
   "cell_type": "markdown",
   "metadata": {},
   "source": [
    "Python list with string values. (Store it in variable data_labels_1)"
   ]
  },
  {
   "cell_type": "code",
   "execution_count": 29,
   "metadata": {},
   "outputs": [],
   "source": [
    "import pandas as pd"
   ]
  },
  {
   "cell_type": "code",
   "execution_count": 30,
   "metadata": {},
   "outputs": [],
   "source": [
    "import numpy as np"
   ]
  },
  {
   "cell_type": "code",
   "execution_count": 31,
   "metadata": {},
   "outputs": [
    {
     "data": {
      "text/plain": [
       "['Lion', 'Tiger', 'Elephant', 'Hippo']"
      ]
     },
     "execution_count": 31,
     "metadata": {},
     "output_type": "execute_result"
    }
   ],
   "source": [
    "data_labels_1 = [\"Lion\", \"Tiger\", \"Elephant\",\"Hippo\"]\n",
    "data_labels_1"
   ]
  },
  {
   "cell_type": "markdown",
   "metadata": {},
   "source": []
  },
  {
   "cell_type": "code",
   "execution_count": 32,
   "metadata": {},
   "outputs": [
    {
     "data": {
      "text/plain": [
       "[1, 2, 3, 4]"
      ]
     },
     "execution_count": 32,
     "metadata": {},
     "output_type": "execute_result"
    }
   ],
   "source": [
    "data_values_1 = [1,2,3,4]\n",
    "data_values_1"
   ]
  },
  {
   "cell_type": "code",
   "execution_count": 33,
   "metadata": {},
   "outputs": [
    {
     "data": {
      "text/plain": [
       "array([1, 2, 3, 4])"
      ]
     },
     "execution_count": 33,
     "metadata": {},
     "output_type": "execute_result"
    }
   ],
   "source": [
    "series_numpy_array_1 = np.array([1,2,3,4])\n",
    "series_numpy_array_1"
   ]
  },
  {
   "cell_type": "code",
   "execution_count": 34,
   "metadata": {},
   "outputs": [
    {
     "data": {
      "text/plain": [
       "{1: 'Anish', 2: 'Ayush', 3: 'Bashanta', 4: 'Saurav', 5: 'Shishir'}"
      ]
     },
     "execution_count": 34,
     "metadata": {},
     "output_type": "execute_result"
    }
   ],
   "source": [
    "dict2 = {1:\"Anish\",2: \"Ayush\" ,3:\"Bashanta\" ,4: \"Saurav\" , 5: \"Shishir\" }\n",
    "dict2"
   ]
  },
  {
   "cell_type": "markdown",
   "metadata": {},
   "source": [
    "Create a new python series that stores the population of 5 various cities as data and name of the cities as indexes from data given below. Store it in variable cities_population.\n",
    "\n",
    "indexes = ['Biratnagar', 'Kathmandu', 'Lalitpur', 'Pokhara', 'Narayangarh']\n",
    "\n",
    "data = [200000, 1600000, 600000, 500000, 350000]\n"
   ]
  },
  {
   "cell_type": "code",
   "execution_count": 35,
   "metadata": {},
   "outputs": [
    {
     "data": {
      "text/plain": [
       "Biratnagar     200000\n",
       "Kathmandu     1600000\n",
       "Lalitpur       600000\n",
       "Pokhara        500000\n",
       "Syangja        350000\n",
       "dtype: int64"
      ]
     },
     "execution_count": 35,
     "metadata": {},
     "output_type": "execute_result"
    }
   ],
   "source": [
    "cities_population = pd.Series([200000, 1600000, 600000, 500000, 350000], index = [\"Biratnagar\", \"Kathmandu\", \"Lalitpur\", \"Pokhara\", \"Syangja\"])\n",
    "cities_population"
   ]
  },
  {
   "cell_type": "markdown",
   "metadata": {},
   "source": [
    "\n",
    "Create different python series for each question below out of the data above as follows:\n",
    "\n",
    "Using python list data_values_1. What do you observe regarding the indexes?\n",
    "\n",
    "I observed that the indexes are auto generated and are started from 0.\n",
    "\n"
   ]
  },
  {
   "cell_type": "code",
   "execution_count": 36,
   "metadata": {},
   "outputs": [
    {
     "data": {
      "text/plain": [
       "0    1\n",
       "1    2\n",
       "2    3\n",
       "3    4\n",
       "dtype: int64"
      ]
     },
     "execution_count": 36,
     "metadata": {},
     "output_type": "execute_result"
    }
   ],
   "source": [
    "data_values_1 = [1,2,3,4]\n",
    "\n",
    "values_series = pd.Series(data_values_1)\n",
    "values_series\n",
    "\n"
   ]
  },
  {
   "cell_type": "markdown",
   "metadata": {},
   "source": [
    "Using python list data_labels_1. What do you observe regarding the datatype of the series?\n",
    "After using hte list data_labels_1 I observed that the datatype of the series is object. or pandas.core.series.Series"
   ]
  },
  {
   "cell_type": "code",
   "execution_count": 37,
   "metadata": {},
   "outputs": [
    {
     "data": {
      "text/plain": [
       "0        Lion\n",
       "1       Tiger\n",
       "2    Elephant\n",
       "3       Hippo\n",
       "dtype: object"
      ]
     },
     "execution_count": 37,
     "metadata": {},
     "output_type": "execute_result"
    }
   ],
   "source": [
    "data_labels_1 = [\"Lion\", \"Tiger\", \"Elephant\",\"Hippo\"]\n",
    "labels_series = pd.Series(data_labels_1)\n",
    "labels_series"
   ]
  },
  {
   "cell_type": "markdown",
   "metadata": {},
   "source": [
    "Using data_values_1 as data values and data_labels_1 as indexes"
   ]
  },
  {
   "cell_type": "code",
   "execution_count": 38,
   "metadata": {},
   "outputs": [
    {
     "data": {
      "text/plain": [
       "Lion        1\n",
       "Tiger       2\n",
       "Elephant    3\n",
       "Hippo       4\n",
       "dtype: int64"
      ]
     },
     "execution_count": 38,
     "metadata": {},
     "output_type": "execute_result"
    }
   ],
   "source": [
    "new_data = pd.Series([1,2,3,4], index = [\"Lion\", \"Tiger\", \"Elephant\",\"Hippo\"])\n",
    "new_data"
   ]
  },
  {
   "cell_type": "markdown",
   "metadata": {},
   "source": [
    "Using numpy array series_numpy_array_1."
   ]
  },
  {
   "cell_type": "code",
   "execution_count": 39,
   "metadata": {},
   "outputs": [
    {
     "data": {
      "text/plain": [
       "0    1\n",
       "1    2\n",
       "2    3\n",
       "3    4\n",
       "dtype: int64"
      ]
     },
     "execution_count": 39,
     "metadata": {},
     "output_type": "execute_result"
    }
   ],
   "source": [
    "\n",
    "new_array_data = pd.Series(series_numpy_array_1)\n",
    "new_array_data"
   ]
  },
  {
   "cell_type": "markdown",
   "metadata": {},
   "source": [
    "Using numpy array series_numpy_array_1. Set the indexes to data_labels_1."
   ]
  },
  {
   "cell_type": "code",
   "execution_count": 40,
   "metadata": {},
   "outputs": [
    {
     "data": {
      "text/plain": [
       "Lion        1\n",
       "Tiger       2\n",
       "Elephant    3\n",
       "Hippo       4\n",
       "dtype: int64"
      ]
     },
     "execution_count": 40,
     "metadata": {},
     "output_type": "execute_result"
    }
   ],
   "source": [
    "\n",
    "\n",
    "new_array_data = pd.Series(series_numpy_array_1, index = data_labels_1)\n",
    "new_array_data"
   ]
  },
  {
   "cell_type": "markdown",
   "metadata": {},
   "source": [
    "Using python dictionary dict2. What do you observe regarding the indexes?\n",
    "\n",
    "After using the python dictionary dict2 I observed that the keys are as indexes."
   ]
  },
  {
   "cell_type": "code",
   "execution_count": 41,
   "metadata": {},
   "outputs": [
    {
     "data": {
      "text/plain": [
       "1       Anish\n",
       "2       Ayush\n",
       "3    Bashanta\n",
       "4      Saurav\n",
       "5     Shishir\n",
       "dtype: object"
      ]
     },
     "execution_count": 41,
     "metadata": {},
     "output_type": "execute_result"
    }
   ],
   "source": [
    "new_dict_data = pd.Series(dict2)\n",
    "# type(new_dict_data)\n",
    "new_dict_data\n"
   ]
  },
  {
   "cell_type": "markdown",
   "metadata": {},
   "source": [
    "Fetch the indexes of the series cities_population."
   ]
  },
  {
   "cell_type": "code",
   "execution_count": 42,
   "metadata": {},
   "outputs": [
    {
     "data": {
      "text/plain": [
       "Index(['Biratnagar', 'Kathmandu', 'Lalitpur', 'Pokhara', 'Syangja'], dtype='object')"
      ]
     },
     "execution_count": 42,
     "metadata": {},
     "output_type": "execute_result"
    }
   ],
   "source": [
    "indexes = cities_population.index\n",
    "indexes"
   ]
  },
  {
   "cell_type": "markdown",
   "metadata": {},
   "source": [
    "Create a new python series that stores the population of 5 various cities as data and name of the cities as indexes from data given below. \n",
    "\n",
    "Store it in variable cities_population_2.\n",
    "\n",
    "indexes = ['Bhaktapur', 'Kathmandu', 'Lalitpur', 'Pokhara', 'Butwal']\n",
    "\n",
    "data = [150000, 1600000, 600000, 500000, 300000]\n"
   ]
  },
  {
   "cell_type": "code",
   "execution_count": 43,
   "metadata": {},
   "outputs": [
    {
     "data": {
      "text/plain": [
       "Bhaktapur     150000\n",
       "Kathmandu    1600000\n",
       "Lalitpur      600000\n",
       "Pokhara       500000\n",
       "Butwal        300000\n",
       "dtype: int64"
      ]
     },
     "execution_count": 43,
     "metadata": {},
     "output_type": "execute_result"
    }
   ],
   "source": [
    "cities_population_2 = pd.Series([150000, 1600000, 600000, 500000, 300000],index = ['Bhaktapur', 'Kathmandu', 'Lalitpur', 'Pokhara', 'Butwal'])\n",
    "cities_population_2"
   ]
  },
  {
   "cell_type": "code",
   "execution_count": 44,
   "metadata": {},
   "outputs": [
    {
     "data": {
      "text/plain": [
       "Bhaktapur           NaN\n",
       "Biratnagar          NaN\n",
       "Butwal              NaN\n",
       "Kathmandu     3200000.0\n",
       "Lalitpur      1200000.0\n",
       "Pokhara       1000000.0\n",
       "Syangja             NaN\n",
       "dtype: float64"
      ]
     },
     "execution_count": 44,
     "metadata": {},
     "output_type": "execute_result"
    }
   ],
   "source": [
    "\n",
    "addition = cities_population + cities_population_2\n",
    "addition\n"
   ]
  },
  {
   "cell_type": "markdown",
   "metadata": {},
   "source": [
    "Create a pandas DataFrame out of the following data. Store it in the variable df_.\n",
    "\n",
    "serial_no: [1, 2, 3, 4, 5, 6, 7, 8, 9, 10] #row indexes\n",
    "\n",
    "subjects : ['ENG', 'NEP', 'MAT', 'SCI', 'COM'] #column headers\n",
    "\n",
    "students : ['RAM','SHYAM','GITA','HARI','SITA','SUSHILA','RAMESH','SUBODH','ANIL','RUPA']\n",
    "\n",
    "marks :marks =[[57, 34, 93, 84, 54], \n",
    "\n",
    "            [48, 49, 52, 89, 64], \n",
    "\n",
    "            [66, 64, 75, 38, 84], \n",
    "\n",
    "            [55, 47, 90, 82, 37], \n",
    "\n",
    "            [45, 93, 70, 53, 76], \n",
    "\n",
    "            [45, 63, 33, 53, 72], \n",
    "\n",
    "            [68, 34, 42, 43, 84], \n",
    "\n",
    "            [62, 69, 67, 50, 94], \n",
    "\n",
    "            [59, 33, 51, 68, 33], \n",
    "            \n",
    "            [57, 91, 60, 37, 44]]\n"
   ]
  },
  {
   "cell_type": "code",
   "execution_count": 45,
   "metadata": {},
   "outputs": [
    {
     "data": {
      "text/html": [
       "<div>\n",
       "<style scoped>\n",
       "    .dataframe tbody tr th:only-of-type {\n",
       "        vertical-align: middle;\n",
       "    }\n",
       "\n",
       "    .dataframe tbody tr th {\n",
       "        vertical-align: top;\n",
       "    }\n",
       "\n",
       "    .dataframe thead th {\n",
       "        text-align: right;\n",
       "    }\n",
       "</style>\n",
       "<table border=\"1\" class=\"dataframe\">\n",
       "  <thead>\n",
       "    <tr style=\"text-align: right;\">\n",
       "      <th></th>\n",
       "      <th>students</th>\n",
       "      <th>ENG</th>\n",
       "      <th>NEP</th>\n",
       "      <th>MAT</th>\n",
       "      <th>SCI</th>\n",
       "      <th>COM</th>\n",
       "    </tr>\n",
       "  </thead>\n",
       "  <tbody>\n",
       "    <tr>\n",
       "      <th>1</th>\n",
       "      <td>RAM</td>\n",
       "      <td>57</td>\n",
       "      <td>34</td>\n",
       "      <td>93</td>\n",
       "      <td>84</td>\n",
       "      <td>54</td>\n",
       "    </tr>\n",
       "    <tr>\n",
       "      <th>2</th>\n",
       "      <td>SHYAM</td>\n",
       "      <td>48</td>\n",
       "      <td>49</td>\n",
       "      <td>52</td>\n",
       "      <td>89</td>\n",
       "      <td>64</td>\n",
       "    </tr>\n",
       "    <tr>\n",
       "      <th>3</th>\n",
       "      <td>GITA</td>\n",
       "      <td>66</td>\n",
       "      <td>64</td>\n",
       "      <td>75</td>\n",
       "      <td>38</td>\n",
       "      <td>84</td>\n",
       "    </tr>\n",
       "    <tr>\n",
       "      <th>4</th>\n",
       "      <td>HARI</td>\n",
       "      <td>55</td>\n",
       "      <td>47</td>\n",
       "      <td>90</td>\n",
       "      <td>82</td>\n",
       "      <td>37</td>\n",
       "    </tr>\n",
       "    <tr>\n",
       "      <th>5</th>\n",
       "      <td>SITA</td>\n",
       "      <td>45</td>\n",
       "      <td>93</td>\n",
       "      <td>70</td>\n",
       "      <td>53</td>\n",
       "      <td>76</td>\n",
       "    </tr>\n",
       "    <tr>\n",
       "      <th>6</th>\n",
       "      <td>SUSHILA</td>\n",
       "      <td>45</td>\n",
       "      <td>63</td>\n",
       "      <td>33</td>\n",
       "      <td>53</td>\n",
       "      <td>72</td>\n",
       "    </tr>\n",
       "    <tr>\n",
       "      <th>7</th>\n",
       "      <td>RAMESH</td>\n",
       "      <td>68</td>\n",
       "      <td>34</td>\n",
       "      <td>42</td>\n",
       "      <td>43</td>\n",
       "      <td>84</td>\n",
       "    </tr>\n",
       "    <tr>\n",
       "      <th>8</th>\n",
       "      <td>SUBODH</td>\n",
       "      <td>62</td>\n",
       "      <td>69</td>\n",
       "      <td>67</td>\n",
       "      <td>50</td>\n",
       "      <td>94</td>\n",
       "    </tr>\n",
       "    <tr>\n",
       "      <th>9</th>\n",
       "      <td>ANIL</td>\n",
       "      <td>59</td>\n",
       "      <td>33</td>\n",
       "      <td>51</td>\n",
       "      <td>68</td>\n",
       "      <td>33</td>\n",
       "    </tr>\n",
       "    <tr>\n",
       "      <th>10</th>\n",
       "      <td>RUPA</td>\n",
       "      <td>57</td>\n",
       "      <td>91</td>\n",
       "      <td>60</td>\n",
       "      <td>37</td>\n",
       "      <td>44</td>\n",
       "    </tr>\n",
       "  </tbody>\n",
       "</table>\n",
       "</div>"
      ],
      "text/plain": [
       "   students  ENG  NEP  MAT  SCI  COM\n",
       "1       RAM   57   34   93   84   54\n",
       "2     SHYAM   48   49   52   89   64\n",
       "3      GITA   66   64   75   38   84\n",
       "4      HARI   55   47   90   82   37\n",
       "5      SITA   45   93   70   53   76\n",
       "6   SUSHILA   45   63   33   53   72\n",
       "7    RAMESH   68   34   42   43   84\n",
       "8    SUBODH   62   69   67   50   94\n",
       "9      ANIL   59   33   51   68   33\n",
       "10     RUPA   57   91   60   37   44"
      ]
     },
     "execution_count": 45,
     "metadata": {},
     "output_type": "execute_result"
    }
   ],
   "source": [
    "students = ['RAM', 'SHYAM', 'GITA', 'HARI', 'SITA', 'SUSHILA', 'RAMESH', 'SUBODH', 'ANIL', 'RUPA']\n",
    "subjects = ['ENG', 'NEP', 'MAT', 'SCI', 'COM']\n",
    "marks = [\n",
    "    [57, 34, 93, 84, 54],\n",
    "    [48, 49, 52, 89, 64],\n",
    "    [66, 64, 75, 38, 84],\n",
    "    [55, 47, 90, 82, 37],\n",
    "    [45, 93, 70, 53, 76],\n",
    "    [45, 63, 33, 53, 72],\n",
    "    [68, 34, 42, 43, 84],\n",
    "    [62, 69, 67, 50, 94],\n",
    "    [59, 33, 51, 68, 33],\n",
    "    [57, 91, 60, 37, 44]\n",
    "]\n",
    "serial_no = [1,2,3,4,5,6,7,8,9,10]\n",
    "\n",
    "df = pd.DataFrame({ \"students\" : students, \n",
    "                    \"ENG\" : [m[0] for m in marks],\n",
    "                    \"NEP\" : [m[1] for m in marks],\n",
    "                    \"MAT\" : [m[2] for m in marks],\n",
    "                    \"SCI\" : [m[3] for m in marks],\n",
    "                    \"COM\" : [m[4] for m in marks]\n",
    "}, index = serial_no)\n",
    "\n",
    "\n",
    "df"
   ]
  },
  {
   "cell_type": "code",
   "execution_count": 46,
   "metadata": {},
   "outputs": [
    {
     "data": {
      "text/html": [
       "<div>\n",
       "<style scoped>\n",
       "    .dataframe tbody tr th:only-of-type {\n",
       "        vertical-align: middle;\n",
       "    }\n",
       "\n",
       "    .dataframe tbody tr th {\n",
       "        vertical-align: top;\n",
       "    }\n",
       "\n",
       "    .dataframe thead th {\n",
       "        text-align: right;\n",
       "    }\n",
       "</style>\n",
       "<table border=\"1\" class=\"dataframe\">\n",
       "  <thead>\n",
       "    <tr style=\"text-align: right;\">\n",
       "      <th></th>\n",
       "      <th>students</th>\n",
       "      <th>ENG</th>\n",
       "      <th>NEP</th>\n",
       "      <th>MAT</th>\n",
       "      <th>SCI</th>\n",
       "      <th>COM</th>\n",
       "    </tr>\n",
       "  </thead>\n",
       "  <tbody>\n",
       "    <tr>\n",
       "      <th>2</th>\n",
       "      <td>SHYAM</td>\n",
       "      <td>48</td>\n",
       "      <td>49</td>\n",
       "      <td>52</td>\n",
       "      <td>89</td>\n",
       "      <td>64</td>\n",
       "    </tr>\n",
       "    <tr>\n",
       "      <th>3</th>\n",
       "      <td>GITA</td>\n",
       "      <td>66</td>\n",
       "      <td>64</td>\n",
       "      <td>75</td>\n",
       "      <td>38</td>\n",
       "      <td>84</td>\n",
       "    </tr>\n",
       "    <tr>\n",
       "      <th>4</th>\n",
       "      <td>HARI</td>\n",
       "      <td>55</td>\n",
       "      <td>47</td>\n",
       "      <td>90</td>\n",
       "      <td>82</td>\n",
       "      <td>37</td>\n",
       "    </tr>\n",
       "    <tr>\n",
       "      <th>5</th>\n",
       "      <td>SITA</td>\n",
       "      <td>45</td>\n",
       "      <td>93</td>\n",
       "      <td>70</td>\n",
       "      <td>53</td>\n",
       "      <td>76</td>\n",
       "    </tr>\n",
       "    <tr>\n",
       "      <th>6</th>\n",
       "      <td>SUSHILA</td>\n",
       "      <td>45</td>\n",
       "      <td>63</td>\n",
       "      <td>33</td>\n",
       "      <td>53</td>\n",
       "      <td>72</td>\n",
       "    </tr>\n",
       "    <tr>\n",
       "      <th>8</th>\n",
       "      <td>SUBODH</td>\n",
       "      <td>62</td>\n",
       "      <td>69</td>\n",
       "      <td>67</td>\n",
       "      <td>50</td>\n",
       "      <td>94</td>\n",
       "    </tr>\n",
       "    <tr>\n",
       "      <th>10</th>\n",
       "      <td>RUPA</td>\n",
       "      <td>57</td>\n",
       "      <td>91</td>\n",
       "      <td>60</td>\n",
       "      <td>37</td>\n",
       "      <td>44</td>\n",
       "    </tr>\n",
       "  </tbody>\n",
       "</table>\n",
       "</div>"
      ],
      "text/plain": [
       "   students  ENG  NEP  MAT  SCI  COM\n",
       "2     SHYAM   48   49   52   89   64\n",
       "3      GITA   66   64   75   38   84\n",
       "4      HARI   55   47   90   82   37\n",
       "5      SITA   45   93   70   53   76\n",
       "6   SUSHILA   45   63   33   53   72\n",
       "8    SUBODH   62   69   67   50   94\n",
       "10     RUPA   57   91   60   37   44"
      ]
     },
     "execution_count": 46,
     "metadata": {},
     "output_type": "execute_result"
    }
   ],
   "source": [
    "nep_pass = df[df.NEP >= 40]\n",
    "nep_pass"
   ]
  },
  {
   "cell_type": "code",
   "execution_count": 47,
   "metadata": {},
   "outputs": [
    {
     "data": {
      "text/html": [
       "<div>\n",
       "<style scoped>\n",
       "    .dataframe tbody tr th:only-of-type {\n",
       "        vertical-align: middle;\n",
       "    }\n",
       "\n",
       "    .dataframe tbody tr th {\n",
       "        vertical-align: top;\n",
       "    }\n",
       "\n",
       "    .dataframe thead th {\n",
       "        text-align: right;\n",
       "    }\n",
       "</style>\n",
       "<table border=\"1\" class=\"dataframe\">\n",
       "  <thead>\n",
       "    <tr style=\"text-align: right;\">\n",
       "      <th></th>\n",
       "      <th>students</th>\n",
       "      <th>ENG</th>\n",
       "      <th>NEP</th>\n",
       "      <th>MAT</th>\n",
       "      <th>SCI</th>\n",
       "      <th>COM</th>\n",
       "    </tr>\n",
       "  </thead>\n",
       "  <tbody>\n",
       "    <tr>\n",
       "      <th>1</th>\n",
       "      <td>RAM</td>\n",
       "      <td>57</td>\n",
       "      <td>34</td>\n",
       "      <td>93</td>\n",
       "      <td>84</td>\n",
       "      <td>54</td>\n",
       "    </tr>\n",
       "    <tr>\n",
       "      <th>2</th>\n",
       "      <td>SHYAM</td>\n",
       "      <td>48</td>\n",
       "      <td>49</td>\n",
       "      <td>52</td>\n",
       "      <td>89</td>\n",
       "      <td>64</td>\n",
       "    </tr>\n",
       "    <tr>\n",
       "      <th>4</th>\n",
       "      <td>HARI</td>\n",
       "      <td>55</td>\n",
       "      <td>47</td>\n",
       "      <td>90</td>\n",
       "      <td>82</td>\n",
       "      <td>37</td>\n",
       "    </tr>\n",
       "  </tbody>\n",
       "</table>\n",
       "</div>"
      ],
      "text/plain": [
       "  students  ENG  NEP  MAT  SCI  COM\n",
       "1      RAM   57   34   93   84   54\n",
       "2    SHYAM   48   49   52   89   64\n",
       "4     HARI   55   47   90   82   37"
      ]
     },
     "execution_count": 47,
     "metadata": {},
     "output_type": "execute_result"
    }
   ],
   "source": [
    "sci_pass = df[df['SCI'] >= 70]\n",
    "sci_pass\n"
   ]
  },
  {
   "cell_type": "code",
   "execution_count": 56,
   "metadata": {},
   "outputs": [
    {
     "data": {
      "text/plain": [
       "np.int64(48)"
      ]
     },
     "execution_count": 56,
     "metadata": {},
     "output_type": "execute_result"
    }
   ],
   "source": [
    "df.iloc[1,1]"
   ]
  },
  {
   "cell_type": "code",
   "execution_count": null,
   "metadata": {},
   "outputs": [],
   "source": []
  }
 ],
 "metadata": {
  "kernelspec": {
   "display_name": "Python 3",
   "language": "python",
   "name": "python3"
  },
  "language_info": {
   "codemirror_mode": {
    "name": "ipython",
    "version": 3
   },
   "file_extension": ".py",
   "mimetype": "text/x-python",
   "name": "python",
   "nbconvert_exporter": "python",
   "pygments_lexer": "ipython3",
   "version": "3.12.2"
  }
 },
 "nbformat": 4,
 "nbformat_minor": 2
}
