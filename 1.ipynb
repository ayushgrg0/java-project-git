{
 "cells": [
  {
   "cell_type": "code",
   "execution_count": 4,
   "metadata": {},
   "outputs": [
    {
     "data": {
      "text/plain": [
       "np.int64(4)"
      ]
     },
     "execution_count": 4,
     "metadata": {},
     "output_type": "execute_result"
    }
   ],
   "source": [
    "import numpy as np\n",
    "myarr = np.array([[5,4,6,8,78,75,7]])\n",
    "myarr[0,1]"
   ]
  },
  {
   "cell_type": "code",
   "execution_count": 5,
   "metadata": {},
   "outputs": [
    {
     "data": {
      "text/plain": [
       "(1, 7)"
      ]
     },
     "execution_count": 5,
     "metadata": {},
     "output_type": "execute_result"
    }
   ],
   "source": [
    "myarr.shape"
   ]
  },
  {
   "cell_type": "code",
   "execution_count": 6,
   "metadata": {},
   "outputs": [
    {
     "data": {
      "text/plain": [
       "dtype('int64')"
      ]
     },
     "execution_count": 6,
     "metadata": {},
     "output_type": "execute_result"
    }
   ],
   "source": [
    "myarr.dtype"
   ]
  },
  {
   "cell_type": "code",
   "execution_count": 7,
   "metadata": {},
   "outputs": [
    {
     "data": {
      "text/plain": [
       "array([[ 5, 45,  6,  8, 78, 75,  7]])"
      ]
     },
     "execution_count": 7,
     "metadata": {},
     "output_type": "execute_result"
    }
   ],
   "source": [
    "myarr [0,1] = 45\n",
    "myarr"
   ]
  },
  {
   "cell_type": "code",
   "execution_count": 8,
   "metadata": {},
   "outputs": [
    {
     "data": {
      "text/plain": [
       "array([[1, 2, 3],\n",
       "       [2, 3, 5],\n",
       "       [5, 4, 7]])"
      ]
     },
     "execution_count": 8,
     "metadata": {},
     "output_type": "execute_result"
    }
   ],
   "source": [
    "list = np.array([[1,2,3],[2,3,5],[5,4,7]])\n",
    "list"
   ]
  },
  {
   "cell_type": "code",
   "execution_count": 9,
   "metadata": {},
   "outputs": [
    {
     "data": {
      "text/plain": [
       "9"
      ]
     },
     "execution_count": 9,
     "metadata": {},
     "output_type": "execute_result"
    }
   ],
   "source": [
    "list.size"
   ]
  },
  {
   "cell_type": "code",
   "execution_count": 10,
   "metadata": {},
   "outputs": [
    {
     "data": {
      "text/plain": [
       "(3, 3)"
      ]
     },
     "execution_count": 10,
     "metadata": {},
     "output_type": "execute_result"
    }
   ],
   "source": [
    "list.shape"
   ]
  },
  {
   "cell_type": "code",
   "execution_count": 11,
   "metadata": {},
   "outputs": [
    {
     "data": {
      "text/plain": [
       "dtype('int64')"
      ]
     },
     "execution_count": 11,
     "metadata": {},
     "output_type": "execute_result"
    }
   ],
   "source": [
    "list.dtype"
   ]
  },
  {
   "cell_type": "code",
   "execution_count": 12,
   "metadata": {},
   "outputs": [],
   "source": [
    "a = np.zeros((3,3))"
   ]
  },
  {
   "cell_type": "code",
   "execution_count": 13,
   "metadata": {},
   "outputs": [
    {
     "data": {
      "text/plain": [
       "array([[0., 0., 0.],\n",
       "       [0., 0., 0.],\n",
       "       [0., 0., 0.]])"
      ]
     },
     "execution_count": 13,
     "metadata": {},
     "output_type": "execute_result"
    }
   ],
   "source": [
    "a\n"
   ]
  },
  {
   "cell_type": "code",
   "execution_count": 14,
   "metadata": {},
   "outputs": [
    {
     "data": {
      "text/plain": [
       "array({54, 55}, dtype=object)"
      ]
     },
     "execution_count": 14,
     "metadata": {},
     "output_type": "execute_result"
    }
   ],
   "source": [
    "np.array({54,55})"
   ]
  },
  {
   "cell_type": "code",
   "execution_count": 15,
   "metadata": {},
   "outputs": [
    {
     "data": {
      "text/plain": [
       "array([0, 1, 2, 3, 4, 5, 6])"
      ]
     },
     "execution_count": 15,
     "metadata": {},
     "output_type": "execute_result"
    }
   ],
   "source": [
    "np.arange(7)"
   ]
  },
  {
   "cell_type": "code",
   "execution_count": 16,
   "metadata": {},
   "outputs": [
    {
     "data": {
      "text/html": [
       "<div>\n",
       "<style scoped>\n",
       "    .dataframe tbody tr th:only-of-type {\n",
       "        vertical-align: middle;\n",
       "    }\n",
       "\n",
       "    .dataframe tbody tr th {\n",
       "        vertical-align: top;\n",
       "    }\n",
       "\n",
       "    .dataframe thead th {\n",
       "        text-align: right;\n",
       "    }\n",
       "</style>\n",
       "<table border=\"1\" class=\"dataframe\">\n",
       "  <thead>\n",
       "    <tr style=\"text-align: right;\">\n",
       "      <th></th>\n",
       "      <th>students</th>\n",
       "      <th>ENG</th>\n",
       "      <th>NEP</th>\n",
       "      <th>MAT</th>\n",
       "      <th>SCI</th>\n",
       "      <th>COM</th>\n",
       "    </tr>\n",
       "  </thead>\n",
       "  <tbody>\n",
       "    <tr>\n",
       "      <th>1</th>\n",
       "      <td>RAM</td>\n",
       "      <td>57</td>\n",
       "      <td>34</td>\n",
       "      <td>93</td>\n",
       "      <td>84</td>\n",
       "      <td>54</td>\n",
       "    </tr>\n",
       "    <tr>\n",
       "      <th>2</th>\n",
       "      <td>SHYAM</td>\n",
       "      <td>48</td>\n",
       "      <td>49</td>\n",
       "      <td>52</td>\n",
       "      <td>89</td>\n",
       "      <td>64</td>\n",
       "    </tr>\n",
       "    <tr>\n",
       "      <th>3</th>\n",
       "      <td>GITA</td>\n",
       "      <td>66</td>\n",
       "      <td>64</td>\n",
       "      <td>75</td>\n",
       "      <td>38</td>\n",
       "      <td>84</td>\n",
       "    </tr>\n",
       "    <tr>\n",
       "      <th>4</th>\n",
       "      <td>HARI</td>\n",
       "      <td>55</td>\n",
       "      <td>47</td>\n",
       "      <td>90</td>\n",
       "      <td>82</td>\n",
       "      <td>37</td>\n",
       "    </tr>\n",
       "    <tr>\n",
       "      <th>5</th>\n",
       "      <td>SITA</td>\n",
       "      <td>45</td>\n",
       "      <td>93</td>\n",
       "      <td>70</td>\n",
       "      <td>53</td>\n",
       "      <td>76</td>\n",
       "    </tr>\n",
       "    <tr>\n",
       "      <th>6</th>\n",
       "      <td>SUSHILA</td>\n",
       "      <td>45</td>\n",
       "      <td>63</td>\n",
       "      <td>33</td>\n",
       "      <td>53</td>\n",
       "      <td>72</td>\n",
       "    </tr>\n",
       "    <tr>\n",
       "      <th>7</th>\n",
       "      <td>RAMESH</td>\n",
       "      <td>68</td>\n",
       "      <td>34</td>\n",
       "      <td>42</td>\n",
       "      <td>43</td>\n",
       "      <td>84</td>\n",
       "    </tr>\n",
       "    <tr>\n",
       "      <th>8</th>\n",
       "      <td>SUBODH</td>\n",
       "      <td>62</td>\n",
       "      <td>69</td>\n",
       "      <td>67</td>\n",
       "      <td>50</td>\n",
       "      <td>94</td>\n",
       "    </tr>\n",
       "    <tr>\n",
       "      <th>9</th>\n",
       "      <td>ANIL</td>\n",
       "      <td>59</td>\n",
       "      <td>33</td>\n",
       "      <td>51</td>\n",
       "      <td>68</td>\n",
       "      <td>33</td>\n",
       "    </tr>\n",
       "    <tr>\n",
       "      <th>10</th>\n",
       "      <td>RUPA</td>\n",
       "      <td>57</td>\n",
       "      <td>91</td>\n",
       "      <td>60</td>\n",
       "      <td>37</td>\n",
       "      <td>44</td>\n",
       "    </tr>\n",
       "  </tbody>\n",
       "</table>\n",
       "</div>"
      ],
      "text/plain": [
       "   students  ENG  NEP  MAT  SCI  COM\n",
       "1       RAM   57   34   93   84   54\n",
       "2     SHYAM   48   49   52   89   64\n",
       "3      GITA   66   64   75   38   84\n",
       "4      HARI   55   47   90   82   37\n",
       "5      SITA   45   93   70   53   76\n",
       "6   SUSHILA   45   63   33   53   72\n",
       "7    RAMESH   68   34   42   43   84\n",
       "8    SUBODH   62   69   67   50   94\n",
       "9      ANIL   59   33   51   68   33\n",
       "10     RUPA   57   91   60   37   44"
      ]
     },
     "execution_count": 16,
     "metadata": {},
     "output_type": "execute_result"
    }
   ],
   "source": [
    "import pandas as pd\n",
    "\n",
    "# Data\n",
    "students = ['RAM', 'SHYAM', 'GITA', 'HARI', 'SITA', 'SUSHILA', 'RAMESH', 'SUBODH', 'ANIL', 'RUPA']\n",
    "subjects = ['ENG', 'NEP', 'MAT', 'SCI', 'COM']\n",
    "marks = [\n",
    "    [57, 34, 93, 84, 54],\n",
    "    [48, 49, 52, 89, 64],\n",
    "    [66, 64, 75, 38, 84],\n",
    "    [55, 47, 90, 82, 37],\n",
    "    [45, 93, 70, 53, 76],\n",
    "    [45, 63, 33, 53, 72],\n",
    "    [68, 34, 42, 43, 84],\n",
    "    [62, 69, 67, 50, 94],\n",
    "    [59, 33, 51, 68, 33],\n",
    "    [57, 91, 60, 37, 44]\n",
    "]\n",
    "indexing = [1,2,3,4,5,6,7,8,9,10]\n",
    "\n",
    "# Create the DataFrame\n",
    "df = pd.DataFrame({ \"students\" : students, \n",
    "                    \"ENG\" : [m[0] for m in marks],\n",
    "                    \"NEP\" : [m[1] for m in marks],\n",
    "                    \"MAT\" : [m[2] for m in marks],\n",
    "                    \"SCI\" : [m[3] for m in marks],\n",
    "                    \"COM\" : [m[4] for m in marks]\n",
    "}, index = indexing)\n",
    "\n",
    "# Display the DataFrame\n",
    "df\n"
   ]
  },
  {
   "cell_type": "markdown",
   "metadata": {},
   "source": [
    "Fetch the records of all the students who have passed in Nepali. "
   ]
  },
  {
   "cell_type": "code",
   "execution_count": 17,
   "metadata": {},
   "outputs": [
    {
     "name": "stdout",
     "output_type": "stream",
     "text": [
      "         ENG  NEP  MAT  SCI  COM\n",
      "RAM       57   34   93   84   54\n",
      "SHYAM     48   49   52   89   64\n",
      "GITA      66   64   75   38   84\n",
      "HARI      55   47   90   82   37\n",
      "SITA      45   93   70   53   76\n",
      "SUSHILA   45   63   33   53   72\n",
      "RAMESH    68   34   42   43   84\n",
      "SUBODH    62   69   67   50   94\n",
      "ANIL      59   33   51   68   33\n",
      "RUPA      57   91   60   37   44\n"
     ]
    }
   ],
   "source": [
    "serial_no = [1, 2, 3, 4, 5, 6, 7, 8, 9, 10]\n",
    "subjects = ['ENG', 'NEP', 'MAT', 'SCI', 'COM']\n",
    "students = ['RAM','SHYAM','GITA','HARI','SITA','SUSHILA','RAMESH','SUBODH','ANIL','RUPA']\n",
    "marks = [\n",
    "    [57, 34, 93, 84, 54], \n",
    "    [48, 49, 52, 89, 64], \n",
    "    [66, 64, 75, 38, 84], \n",
    "    [55, 47, 90, 82, 37], \n",
    "    [45, 93, 70, 53, 76], \n",
    "    [45, 63, 33, 53, 72], \n",
    "    [68, 34, 42, 43, 84], \n",
    "    [62, 69, 67, 50, 94], \n",
    "    [59, 33, 51, 68, 33], \n",
    "    [57, 91, 60, 37, 44]\n",
    "]\n",
    "df_ = pd.DataFrame(marks, columns=subjects, index=students)\n",
    "\n",
    "# Displaying the DataFrame\n",
    "print(df_)"
   ]
  },
  {
   "cell_type": "code",
   "execution_count": 20,
   "metadata": {},
   "outputs": [
    {
     "data": {
      "text/plain": [
       "(10, 5)"
      ]
     },
     "execution_count": 20,
     "metadata": {},
     "output_type": "execute_result"
    }
   ],
   "source": [
    "marks = np.array([\n",
    "    [57, 34, 93, 84, 54],\n",
    "    [48, 49, 52, 89, 64],\n",
    "    [66, 64, 75, 38, 84],\n",
    "    [55, 47, 90, 82, 37],\n",
    "    [45, 93, 70, 53, 76],\n",
    "    [45, 63, 33, 53, 72],\n",
    "    [68, 34, 42, 43, 84],\n",
    "    [62, 69, 67, 50, 94],\n",
    "    [59, 33, 51, 68, 33],\n",
    "    [57, 91, 60, 37, 44]\n",
    "])\n",
    "marks.shape"
   ]
  },
  {
   "cell_type": "code",
   "execution_count": null,
   "metadata": {},
   "outputs": [],
   "source": []
  }
 ],
 "metadata": {
  "kernelspec": {
   "display_name": "Python 3",
   "language": "python",
   "name": "python3"
  },
  "language_info": {
   "codemirror_mode": {
    "name": "ipython",
    "version": 3
   },
   "file_extension": ".py",
   "mimetype": "text/x-python",
   "name": "python",
   "nbconvert_exporter": "python",
   "pygments_lexer": "ipython3",
   "version": "3.12.2"
  }
 },
 "nbformat": 4,
 "nbformat_minor": 2
}
